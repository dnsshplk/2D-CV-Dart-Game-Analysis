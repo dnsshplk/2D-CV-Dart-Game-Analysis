{
 "cells": [
  {
   "cell_type": "code",
   "execution_count": 1,
   "metadata": {},
   "outputs": [],
   "source": [
    "import cv2\n",
    "import numpy as np"
   ]
  },
  {
   "cell_type": "code",
   "execution_count": 2,
   "metadata": {},
   "outputs": [],
   "source": [
    "path1 = r'imgs/IMG_20240510_172748.jpg'\n",
    "path2 = r'imgs/IMG_20240510_172837.jpg'\n",
    "path3 = r'imgs/IMG_20240510_172930.jpg'"
   ]
  },
  {
   "cell_type": "code",
   "execution_count": 4,
   "metadata": {},
   "outputs": [],
   "source": [
    "def getCountors(frame, gray = False, draw = True):\n",
    "    if not gray:\n",
    "        frame_gray = cv2.cvtColor(frame, cv2.COLOR_BGR2GRAY)\n",
    "    else:\n",
    "        frame_gray = frame\n",
    "\n",
    "    frame_gray = cv2.GaussianBlur(frame_gray, ksize = (5, 5), sigmaX=1)\n",
    "\n",
    "    frame_gray = cv2.Canny(frame_gray, threshold1=50, threshold2=125)\n",
    "\n",
    "    cntrs, h = cv2.findContours(frame_gray, cv2.RETR_EXTERNAL, cv2.CHAIN_APPROX_SIMPLE)\n",
    "    cnts = []\n",
    "\n",
    "    for cnt in cntrs:\n",
    "        area = cv2.contourArea(cnt)\n",
    "        perimeter = cv2.arcLength(cnt, True)\n",
    "        approx = cv2.approxPolyDP(cnt, 0.02*perimeter, closed = True)\n",
    "        bbox = cv2.boundingRect(approx)\n",
    "\n",
    "        cnts.append((cnt, approx, area, perimeter, bbox))\n",
    "\n",
    "    cnts = sorted(cnts, key = lambda x: -x[2])\n",
    "    \n",
    "    print(len(cnts))\n",
    "    # cnt = [c[0] for c in cnts[:3]]\n",
    "    # cnt = [c[0] for c in cnts]\n",
    "    cnt = [c for c in cnts[:3]]\n",
    "    if draw:\n",
    "        # M = cv2.moments(cnt[0])\n",
    "        # cX = int(M[\"m10\"] / M[\"m00\"])\n",
    "        # cY = int(M[\"m01\"] / M[\"m00\"])\n",
    "        frame = cv2.cvtColor(frame, cv2.COLOR_GRAY2BGR)\n",
    "        # Draw the center of the contour\n",
    "        # cv2.circle(frame, (cX, cY), 7, (255, 255, 255), -1)\n",
    "        contours = [c[0] for c in cnt]\n",
    "        frame = cv2.drawContours(frame, contours, -1, (0, 0, 255), 5)\n",
    "        for i in range(len(cnt)):\n",
    "            print(i)\n",
    "            x, y, w, h = cnt[i][4]\n",
    "            frame = cv2.rectangle(frame, (x, y), (x + w, y + h), (0, 255, 0), 3)\n",
    "\n",
    "    # cnt = cnt[0]\n",
    "    # l = tuple(cnt[cnt[:,:,0].argmin()][0])\n",
    "    # r = tuple(cnt[cnt[:,:,0].argmax()][0])\n",
    "    # t = tuple(cnt[cnt[:,:,1].argmin()][0])\n",
    "    # b = tuple(cnt[cnt[:,:,1].argmax()][0])\n",
    "\n",
    "\n",
    "    return frame, cnts"
   ]
  },
  {
   "cell_type": "code",
   "execution_count": null,
   "metadata": {},
   "outputs": [],
   "source": [
    "img = cv2.imread(path1)\n",
    "\n",
    "w, h = img.shape[1]//1, img.shape[0]//1\n",
    "\n",
    "img = cv2.resize(img, (w, h))\n",
    "\n",
    "img_cnts, cnts1, (l, r, t, b) = getCountors(img)\n",
    "\n",
    "\n",
    "cv2.imshow('Detected Circles', img_cnts)\n",
    "cv2.waitKey(0)\n",
    "cv2.destroyAllWindows()"
   ]
  },
  {
   "cell_type": "code",
   "execution_count": 142,
   "metadata": {},
   "outputs": [],
   "source": [
    "cv2.circle(img_cnts, l, 8, (0, 255, 0), -1)\n",
    "cv2.circle(img_cnts, r, 8, (0, 255, 0), -1)\n",
    "cv2.circle(img_cnts, t, 8, (0, 255, 0), -1)\n",
    "cv2.circle(img_cnts, b, 8, (0, 255, 0), -1)\n",
    "\n",
    "p1 = (l[0], t[1])\n",
    "p2 = (r[0], t[1])\n",
    "p3 = (l[0], b[1])\n",
    "p4 = (r[0], b[1])\n",
    "\n",
    "# p_c = (int((l[0] + r[0] + t[0] + b[0])/4), int((l[1] + r[1] + t[1] + b[1])/4))\n",
    "\n",
    "# cv2.circle(img_cnts, p_c, 8, (255, 255, 0), -1)\n",
    "cv2.circle(img_cnts, p1, 8, (255, 255, 0), -1)\n",
    "cv2.circle(img_cnts, p2, 8, (255, 255, 0), -1)\n",
    "cv2.circle(img_cnts, p3, 8, (255, 255, 0), -1)\n",
    "cv2.circle(img_cnts, p4, 8, (255, 255, 0), -1)\n",
    "\n",
    "# Display the image\n",
    "cv2.imshow('Extreme Points', img_cnts)\n",
    "cv2.waitKey(0)\n",
    "cv2.destroyAllWindows()"
   ]
  },
  {
   "cell_type": "code",
   "execution_count": 143,
   "metadata": {},
   "outputs": [],
   "source": [
    "pts1 = np.float32([l, t, b, r])\n",
    "# pts2 = np.float32([p1, p2, p3, p4])\n",
    "pts2 = np.float32([p1, p2, p3, p4])\n",
    "\n",
    "M = cv2.getPerspectiveTransform(pts1, pts2)\n",
    "\n",
    "result = cv2.warpPerspective(img, M, (w, h))\n",
    "\n",
    "# cv2.circle(result, (450, 450), 8, (255, 255, 0), -1)\n",
    "\n",
    "cv2.imshow('TR', result)\n",
    "cv2.waitKey(0)\n",
    "cv2.destroyAllWindows()"
   ]
  },
  {
   "cell_type": "code",
   "execution_count": 145,
   "metadata": {},
   "outputs": [
    {
     "data": {
      "text/plain": [
       "True"
      ]
     },
     "execution_count": 145,
     "metadata": {},
     "output_type": "execute_result"
    }
   ],
   "source": [
    "cv2.imwrite('result.jpg', result)"
   ]
  },
  {
   "cell_type": "code",
   "execution_count": 147,
   "metadata": {},
   "outputs": [],
   "source": [
    "img = cv2.imread(path2)\n",
    "\n",
    "w, h = img.shape[1]//4, img.shape[0]//4\n",
    "\n",
    "img = cv2.resize(img, (w, h))\n",
    "\n",
    "gray_img = cv2.cvtColor(img, cv2.COLOR_BGR2GRAY)\n",
    "\n",
    "# gray_blurred = cv2.medianBlur(gray_img, 21, 1)\n",
    "gray_blurred = cv2.bilateralFilter(gray_img, 15, 75, 75)\n",
    "# gray_blurred = cv2.GaussianBlur(gray_img, (21, 21), 7)\n",
    "\n",
    "cv2.imshow('Detected Circles', gray_blurred)\n",
    "cv2.waitKey(0)\n",
    "cv2.destroyAllWindows()\n",
    "\n",
    "detected_circles = cv2.HoughCircles(gray_blurred, cv2.HOUGH_GRADIENT, 1, 20,  \n",
    "                                   param1=100, param2=250, minRadius=0, maxRadius=0)\n",
    "\n",
    "# detected_circles = cv2.HoughCircles(gray_blurred, cv2.HOUGH_GRADIENT, 1, 20, \n",
    "#                                    param1=50, param2=220, minRadius=0, maxRadius=0)\n",
    "\n",
    "if detected_circles is not None:\n",
    "    detected_circles = np.uint16(np.around(detected_circles))\n",
    "    circles = detected_circles[0, :]\n",
    "    circles = sorted(circles, key=lambda x: x[2], reverse=True)\n",
    "    \n",
    "    # Draw only the 5 largest circles\n",
    "    i = 0\n",
    "    for circle in circles:\n",
    "        (x, y, r) = circle\n",
    "        cv2.circle(img, (x, y), r, (0, 255, 0), 2)\n",
    "        cv2.circle(img, (x, y), 1, (0, 0, 255), 3)\n",
    "        if i == 5: break\n",
    "\n",
    "\n",
    "cv2.imshow('Detected Circles', img)\n",
    "cv2.waitKey(0)\n",
    "cv2.destroyAllWindows()"
   ]
  },
  {
   "cell_type": "code",
   "execution_count": 70,
   "metadata": {},
   "outputs": [],
   "source": [
    "def detect_black_white_yellow(image):\n",
    "    # Convert image to HSV color space\n",
    "    hsv_image = cv2.cvtColor(image, cv2.COLOR_BGR2HSV)\n",
    "    \n",
    "    # Define thresholds for black, white, and yellow colors in HSV space\n",
    "    lower_black = np.array([0, 0, 0])\n",
    "    upper_black = np.array([180, 255, 100])\n",
    "    lower_white = np.array([0, 0, 175])\n",
    "    upper_white = np.array([180, 30, 255])\n",
    "    lower_yellow = np.array([20, 100, 100])\n",
    "    upper_yellow = np.array([40, 255, 255])\n",
    "    \n",
    "    # Create masks for each color\n",
    "    mask_black = cv2.inRange(hsv_image, lower_black, upper_black)\n",
    "    mask_white = cv2.inRange(hsv_image, lower_white, upper_white)\n",
    "    mask_yellow = cv2.inRange(hsv_image, lower_yellow, upper_yellow)\n",
    "    \n",
    "    # Combine masks\n",
    "    combined_mask = cv2.bitwise_or(mask_black, mask_white)\n",
    "    combined_mask = cv2.bitwise_or(combined_mask, mask_yellow)\n",
    "    \n",
    "    return cv2.bitwise_not(combined_mask)\n",
    "\n",
    "\n",
    "def find_gray(image):\n",
    "    # Convert image to HSV color space\n",
    "    hsv_image = cv2.cvtColor(image, cv2.COLOR_BGR2HSV)\n",
    "    \n",
    "    # Define thresholds for black, white, and yellow colors in HSV space\n",
    "    lower_gray = np.array([0, 0, 90])\n",
    "    upper_gray = np.array([180, 255, 150])\n",
    "    \n",
    "    # Create masks for each color\n",
    "    mask_gray = cv2.inRange(hsv_image, lower_gray, upper_gray)\n",
    "\n",
    "    # Combine masks\n",
    "    return mask_gray"
   ]
  },
  {
   "cell_type": "code",
   "execution_count": 71,
   "metadata": {},
   "outputs": [
    {
     "name": "stdout",
     "output_type": "stream",
     "text": [
      "3\n",
      "0\n",
      "1\n",
      "2\n",
      "5\n",
      "0\n",
      "1\n",
      "2\n"
     ]
    }
   ],
   "source": [
    "import cv2\n",
    "import numpy as np\n",
    "\n",
    "def find_colored_areas(image, color_range_red, color_range_green):\n",
    "  \"\"\"\n",
    "  Finds red and green areas in an image using OpenCV.\n",
    "\n",
    "  Args:\n",
    "      image: The input image as a NumPy array.\n",
    "      color_range_red: Lower and upper bounds for red color in HSV (Hue, Saturation, Value) format.\n",
    "      color_range_green: Lower and upper bounds for green color in HSV format.\n",
    "\n",
    "  Returns:\n",
    "      A tuple containing two NumPy arrays:\n",
    "          - red_mask: Binary mask where white pixels represent red areas.\n",
    "          - green_mask: Binary mask where white pixels represent green areas.\n",
    "  \"\"\"\n",
    "  # Convert image to HSV colorspace\n",
    "  hsv = cv2.cvtColor(image, cv2.COLOR_BGR2HSV)\n",
    "\n",
    "  # Create masks for red and green colors\n",
    "  red_mask = cv2.inRange(hsv, color_range_red[0], color_range_red[1])\n",
    "  green_mask = cv2.inRange(hsv, color_range_green[0], color_range_green[1])\n",
    "\n",
    "  # Optional: Refine masks (noise reduction, contour smoothing)\n",
    "  # ... (implement further processing as needed)\n",
    "\n",
    "  return red_mask, green_mask\n",
    "\n",
    "# Example usage (adjust color ranges as needed)\n",
    "image = cv2.imread(path1)  # Replace with your image path\n",
    "\n",
    "w, h = image.shape[1]//3, image.shape[0]//3\n",
    "\n",
    "image = cv2.resize(image, (w, h))\n",
    "\n",
    "color_range_red = (np.array([0, 75, 75], np.uint8), np.array([15, 255, 255], np.uint8))  # Lower red limit (adjust) \n",
    "color_range_green = (np.array([40, 50, 50], np.uint8), np.array([80, 255, 255], np.uint8))  # Lower green limit (adjust)\n",
    "\n",
    "red_mask, green_mask = find_colored_areas(image, color_range_red, color_range_green)\n",
    "\n",
    "# combined_mask = detect_black_white_yellow(image)\n",
    "# kernel = np.ones((3,3),np.uint8)\n",
    "# combined_mask_e = cv2.erode(combined_mask, kernel, iterations = 3)\n",
    "\n",
    "gray_mask = find_gray(image)\n",
    "\n",
    "\n",
    "# Display results (optional)\n",
    "kernel = np.ones((3,3),np.uint8)\n",
    "red_mask_e = cv2.erode(red_mask, kernel, iterations = 3)\n",
    "green_mask_e = cv2.erode(green_mask, kernel, iterations = 3)\n",
    "\n",
    "# red_mask_e = cv2.morphologyEx(red_mask, cv2.MORPH_OPEN, kernel, iterations = 4)\n",
    "# green_mask_e = cv2.morphologyEx(green_mask, cv2.MORPH_OPEN, kernel, iterations = 4)\n",
    "\n",
    "\n",
    "img_cnts_green, cnts1 = getCountors(red_mask_e, gray = True)\n",
    "img_cnts_red, cnts1 = getCountors(green_mask_e, gray = True)\n",
    "\n",
    "# cv2.imshow(\"Original Image\", image)\n",
    "# cv2.startWindowThread()\n",
    "# cv2.imshow(\"Red Mask M\", img_cnts_green)\n",
    "# cv2.startWindowThread()\n",
    "# cv2.imshow(\"Green Mask M\", img_cnts_red)\n",
    "# cv2.startWindowThread()\n",
    "cv2.imshow(\"Original Image\", image)\n",
    "cv2.imshow(\"gray mask\", gray_mask)\n",
    "cv2.waitKey(0)\n",
    "cv2.destroyAllWindows()\n",
    "# cv2.destroyAllWindows()"
   ]
  },
  {
   "cell_type": "code",
   "execution_count": 40,
   "metadata": {},
   "outputs": [
    {
     "data": {
      "text/plain": [
       "(1736, 2320)"
      ]
     },
     "execution_count": 40,
     "metadata": {},
     "output_type": "execute_result"
    }
   ],
   "source": [
    "red_mask.shape"
   ]
  },
  {
   "cell_type": "code",
   "execution_count": 14,
   "metadata": {},
   "outputs": [
    {
     "data": {
      "text/plain": [
       "array([  0, 255], dtype=uint8)"
      ]
     },
     "execution_count": 14,
     "metadata": {},
     "output_type": "execute_result"
    }
   ],
   "source": [
    "np.unique(red_mask_e)"
   ]
  },
  {
   "cell_type": "code",
   "execution_count": null,
   "metadata": {},
   "outputs": [],
   "source": []
  }
 ],
 "metadata": {
  "kernelspec": {
   "display_name": "dlenv",
   "language": "python",
   "name": "python3"
  },
  "language_info": {
   "codemirror_mode": {
    "name": "ipython",
    "version": 3
   },
   "file_extension": ".py",
   "mimetype": "text/x-python",
   "name": "python",
   "nbconvert_exporter": "python",
   "pygments_lexer": "ipython3",
   "version": "3.9.19"
  }
 },
 "nbformat": 4,
 "nbformat_minor": 2
}
