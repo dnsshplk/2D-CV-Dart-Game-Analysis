{
 "cells": [
  {
   "cell_type": "code",
   "execution_count": 1,
   "metadata": {},
   "outputs": [],
   "source": [
    "import cv2\n",
    "import numpy as np"
   ]
  },
  {
   "cell_type": "code",
   "execution_count": 2,
   "metadata": {},
   "outputs": [],
   "source": [
    "path1 = r'imgs\\IMG_20240510_172748.jpg'\n",
    "path2 = r'imgs\\IMG_20240510_172837.jpg'\n",
    "path3 = r'imgs\\IMG_20240510_172930.jpg'"
   ]
  },
  {
   "cell_type": "code",
   "execution_count": 17,
   "metadata": {},
   "outputs": [],
   "source": [
    "def getCountors(frame, draw = True):\n",
    "    frame_gray = cv2.cvtColor(frame, cv2.COLOR_BGR2GRAY)\n",
    "\n",
    "    frame_gray = cv2.GaussianBlur(frame_gray, ksize = (5, 5), sigmaX=1)\n",
    "\n",
    "    frame_gray = cv2.Canny(frame_gray, threshold1=50, threshold2=125)\n",
    "\n",
    "    cntrs, h = cv2.findContours(frame_gray, cv2.RETR_EXTERNAL, cv2.CHAIN_APPROX_SIMPLE)\n",
    "    cnts = []\n",
    "\n",
    "    for cnt in cntrs:\n",
    "        area = cv2.contourArea(cnt)\n",
    "        perimeter = cv2.arcLength(cnt, True)\n",
    "        approx = cv2.approxPolyDP(cnt, 0.02*perimeter, closed = True)\n",
    "        bbox = cv2.boundingRect(approx)\n",
    "\n",
    "        cnts.append((cnt, approx, area, perimeter, bbox))\n",
    "\n",
    "    cnts = sorted(cnts, key = lambda x: -x[2])\n",
    "    \n",
    "    cnt = [c[0] for c in cnts[:1]]\n",
    "\n",
    "    if draw:\n",
    "        M = cv2.moments(cnt[0])\n",
    "        cX = int(M[\"m10\"] / M[\"m00\"])\n",
    "        cY = int(M[\"m01\"] / M[\"m00\"])\n",
    "\n",
    "        # Draw the center of the contour\n",
    "        cv2.circle(frame, (cX, cY), 7, (255, 255, 255), -1)\n",
    "\n",
    "        frame = cv2.drawContours(frame, cnt, -1, (0, 0, 255), 5)\n",
    "\n",
    "    cnt = cnt[0]\n",
    "    l = tuple(cnt[cnt[:,:,0].argmin()][0])\n",
    "    r = tuple(cnt[cnt[:,:,0].argmax()][0])\n",
    "    t = tuple(cnt[cnt[:,:,1].argmin()][0])\n",
    "    b = tuple(cnt[cnt[:,:,1].argmax()][0])\n",
    "\n",
    "\n",
    "    return frame, cnts, (l, r, t, b)\n",
    "\n",
    "img = cv2.imread('imgs\\IMG_20240510_172930.jpg')\n",
    "\n",
    "w, h = img.shape[1]//4, img.shape[0]//4\n",
    "\n",
    "img = cv2.resize(img, (w, h))\n",
    "\n",
    "img_cnts, cnts1, (l, r, t, b) = getCountors(img)\n",
    "\n",
    "\n",
    "cv2.imshow('Detected Circles', img_cnts)\n",
    "cv2.waitKey(0)\n",
    "cv2.destroyAllWindows()"
   ]
  },
  {
   "cell_type": "code",
   "execution_count": 19,
   "metadata": {},
   "outputs": [],
   "source": [
    "cv2.circle(img_cnts, l, 8, (0, 255, 0), -1)\n",
    "cv2.circle(img_cnts, r, 8, (0, 255, 0), -1)\n",
    "cv2.circle(img_cnts, t, 8, (0, 255, 0), -1)\n",
    "cv2.circle(img_cnts, b, 8, (0, 255, 0), -1)\n",
    "\n",
    "p1 = (l[0], t[1])\n",
    "p2 = (r[0], t[1])\n",
    "p3 = (l[0], b[1])\n",
    "p4 = (r[0], b[1])\n",
    "\n",
    "cv2.circle(img_cnts, p1, 8, (255, 255, 0), -1)\n",
    "cv2.circle(img_cnts, p2, 8, (255, 255, 0), -1)\n",
    "cv2.circle(img_cnts, p3, 8, (255, 255, 0), -1)\n",
    "cv2.circle(img_cnts, p4, 8, (255, 255, 0), -1)\n",
    "\n",
    "# Display the image\n",
    "cv2.imshow('Extreme Points', img_cnts)\n",
    "cv2.waitKey(0)\n",
    "cv2.destroyAllWindows()"
   ]
  },
  {
   "cell_type": "code",
   "execution_count": 7,
   "metadata": {},
   "outputs": [
    {
     "data": {
      "text/plain": [
       "((274, 440), (970, 466), (634, 113), (612, 795))"
      ]
     },
     "execution_count": 7,
     "metadata": {},
     "output_type": "execute_result"
    }
   ],
   "source": [
    "(l, r, t, b)"
   ]
  },
  {
   "cell_type": "code",
   "execution_count": 4,
   "metadata": {},
   "outputs": [],
   "source": [
    "img = cv2.imread(path2)\n",
    "\n",
    "w, h = img.shape[1]//4, img.shape[0]//4\n",
    "\n",
    "img = cv2.resize(img, (w, h))\n",
    "\n",
    "gray_img = cv2.cvtColor(img, cv2.COLOR_BGR2GRAY)\n",
    "\n",
    "# gray_blurred = cv2.medianBlur(gray_img, 21, 1)\n",
    "gray_blurred = cv2.blur(gray_img, (7, 7), 1)\n",
    "# gray_blurred = cv2.GaussianBlur(gray_img, (21, 21), 7)\n",
    "\n",
    "detected_circles = cv2.HoughCircles(gray_blurred, cv2.HOUGH_GRADIENT, 1, 20,  \n",
    "                                   param1=50, param2=175, minRadius=0, maxRadius=0)\n",
    "\n",
    "# detected_circles = cv2.HoughCircles(gray_blurred, cv2.HOUGH_GRADIENT, 1, 20, \n",
    "#                                    param1=50, param2=220, minRadius=0, maxRadius=0)\n",
    "\n",
    "if detected_circles is not None:\n",
    "    detected_circles = np.uint16(np.around(detected_circles))\n",
    "    circles = detected_circles[0, :]\n",
    "    circles = sorted(circles, key=lambda x: x[2], reverse=True)\n",
    "    \n",
    "    # Draw only the 5 largest circles\n",
    "    i = 0\n",
    "    for circle in circles:\n",
    "        (x, y, r) = circle\n",
    "        cv2.circle(img, (x, y), r, (0, 255, 0), 2)\n",
    "        cv2.circle(img, (x, y), 1, (0, 0, 255), 3)\n",
    "        if i == 5: break\n",
    "\n",
    "\n",
    "cv2.imshow('Detected Circles', img)\n",
    "cv2.waitKey(0)\n",
    "cv2.destroyAllWindows()"
   ]
  },
  {
   "cell_type": "code",
   "execution_count": 38,
   "metadata": {},
   "outputs": [],
   "source": [
    "cv2.imshow('Detected Circles', gray_blurred)\n",
    "cv2.waitKey(0)\n",
    "cv2.destroyAllWindows()"
   ]
  },
  {
   "cell_type": "code",
   "execution_count": null,
   "metadata": {},
   "outputs": [],
   "source": [
    "(21, 21), 7"
   ]
  },
  {
   "cell_type": "code",
   "execution_count": 71,
   "metadata": {},
   "outputs": [],
   "source": [
    "import cv2\n",
    "import numpy as np\n",
    "\n",
    "# Load the image\n",
    "img = cv2.imread(path1)\n",
    "\n",
    "img = cv2.resize(img, (img.shape[1]//4, img.shape[0]//4))\n",
    "\n",
    "# Convert the image to grayscale\n",
    "gray = cv2.cvtColor(img, cv2.COLOR_BGR2GRAY)\n",
    "\n",
    "# Apply thresholding to segment the objects\n",
    "_, thresh = cv2.threshold(gray, 100, 255, cv2.THRESH_BINARY_INV + cv2.THRESH_OTSU)\n",
    "\n",
    "# Find contours in the thresholded image\n",
    "contours, _ = cv2.findContours(thresh, cv2.RETR_EXTERNAL, cv2.CHAIN_APPROX_SIMPLE)\n",
    "\n",
    "# Draw the contours on the original image\n",
    "for contour in contours:\n",
    "    cv2.drawContours(img, [contour], -1, (0, 255, 0), 2)\n",
    "\n",
    "# Display the output\n",
    "cv2.imshow('Contours', img)\n",
    "cv2.waitKey(0)\n",
    "cv2.destroyAllWindows()"
   ]
  },
  {
   "cell_type": "code",
   "execution_count": null,
   "metadata": {},
   "outputs": [],
   "source": []
  }
 ],
 "metadata": {
  "kernelspec": {
   "display_name": "dlenv",
   "language": "python",
   "name": "python3"
  },
  "language_info": {
   "codemirror_mode": {
    "name": "ipython",
    "version": 3
   },
   "file_extension": ".py",
   "mimetype": "text/x-python",
   "name": "python",
   "nbconvert_exporter": "python",
   "pygments_lexer": "ipython3",
   "version": "3.9.18"
  }
 },
 "nbformat": 4,
 "nbformat_minor": 2
}
