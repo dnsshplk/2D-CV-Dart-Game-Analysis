{
 "cells": [
  {
   "cell_type": "code",
   "execution_count": 295,
   "metadata": {},
   "outputs": [],
   "source": [
    "import cv2\n",
    "import numpy as np"
   ]
  },
  {
   "cell_type": "code",
   "execution_count": 296,
   "metadata": {},
   "outputs": [],
   "source": [
    "path1 = r'imgs/IMG_20240510_172748.jpg'\n",
    "path2 = r'imgs/IMG_20240510_172837.jpg'\n",
    "path3 = r'imgs/IMG_20240510_172930.jpg'"
   ]
  },
  {
   "cell_type": "code",
   "execution_count": 387,
   "metadata": {},
   "outputs": [],
   "source": [
    "def cropBoard(frame_orig):\n",
    "    frame = frame_orig.copy()\n",
    "    frame_gray = cv2.cvtColor(frame, cv2.COLOR_BGR2GRAY)\n",
    "\n",
    "    frame_gray = cv2.GaussianBlur(frame_gray, ksize = (5, 5), sigmaX=1)\n",
    "\n",
    "    frame_gray = cv2.Canny(frame_gray, threshold1=50, threshold2=125)\n",
    "\n",
    "    cntrs, h = cv2.findContours(frame_gray, cv2.RETR_EXTERNAL, cv2.CHAIN_APPROX_SIMPLE)\n",
    "    cnts = []\n",
    "\n",
    "    for cnt in cntrs:\n",
    "        area = cv2.contourArea(cnt)\n",
    "        perimeter = cv2.arcLength(cnt, True)\n",
    "        approx = cv2.approxPolyDP(cnt, 0.02*perimeter, closed = True)\n",
    "        bbox = cv2.boundingRect(approx)\n",
    "\n",
    "        cnts.append((cnt, approx, area, perimeter, bbox))\n",
    "\n",
    "    cnts = sorted(cnts, key = lambda x: -x[2])\n",
    "    \n",
    "\n",
    "    cnt = [c[0] for c in cnts[:1]]\n",
    "    bbox = [c[4] for c in cnts[:1]]\n",
    "    x, y, w, h = bbox[0]\n",
    "\n",
    "    frame = frame[y:y+h, x:x+w]\n",
    "\n",
    "    frame = cv2.resize(frame, (1000, 1000))\n",
    " \n",
    "\n",
    "    return frame"
   ]
  },
  {
   "cell_type": "code",
   "execution_count": 388,
   "metadata": {},
   "outputs": [],
   "source": [
    "def move_ellipse_center(ellipse, area):\n",
    "    (cx, cy), (ma, Ma), angle = ellipse\n",
    "    if area <= 800:\n",
    "        return int(cx), int(cy)\n",
    "    elif 750 < area < 2500:\n",
    "        minor_axis_length = min(ma, Ma)\n",
    "        angle_radians = np.radians(angle)\n",
    "        dx = np.cos(angle_radians)\n",
    "        dy = np.sin(angle_radians)\n",
    "        new_cx = cx - dx * minor_axis_length \n",
    "        new_cy = cy - dy * minor_axis_length - (area - 500) / 30\n",
    "        return int(new_cx), int(new_cy)\n",
    "    else:\n",
    "        major_axis_length = max(ma, Ma)\n",
    "        angle_radians = np.radians(angle)\n",
    "        dx = np.sin(angle_radians)\n",
    "        dy = np.cos(angle_radians)\n",
    "        print(angle, dx, dy)\n",
    "        new_cx = cx - abs(dx * major_axis_length)  \n",
    "        new_cy = cy - abs(dy * major_axis_length) \n",
    "        return int(new_cx), int(new_cy)\n",
    "        \n",
    "\n",
    "\n",
    "\n",
    "def get_red_green_masks_with_contours(image, draw = False):\n",
    "    # draw_image = image.copy()\n",
    "    # Convert the image to the HSV color space\n",
    "    hsv_image = cv2.cvtColor(image, cv2.COLOR_BGR2HSV)\n",
    "\n",
    "    # Define HSV range for red color (Red can span two ranges in HSV)\n",
    "    lower_red1 = np.array([0, 70, 50])\n",
    "    upper_red1 = np.array([15, 255, 255])\n",
    "    lower_red2 = np.array([165, 70, 50])\n",
    "    upper_red2 = np.array([180, 255, 255])\n",
    "\n",
    "    # Define HSV range for green color\n",
    "    lower_green = np.array([36, 70, 50])\n",
    "    upper_green = np.array([86, 255, 255])\n",
    "\n",
    "    # Create masks for red and green colors\n",
    "    mask_red1 = cv2.inRange(hsv_image, lower_red1, upper_red1)\n",
    "    mask_red2 = cv2.inRange(hsv_image, lower_red2, upper_red2)\n",
    "    mask_red = cv2.bitwise_or(mask_red1, mask_red2)\n",
    "\n",
    "    mask_green = cv2.inRange(hsv_image, lower_green, upper_green)\n",
    "\n",
    "    kernel = np.ones((7, 7), np.uint8)\n",
    "    mask_red = cv2.erode(mask_red, kernel, iterations=2)\n",
    "    mask_green = cv2.erode(mask_green, kernel, iterations=1)\n",
    "\n",
    "    # Find contours in the masks\n",
    "    contours_red, _ = cv2.findContours(mask_red, cv2.RETR_EXTERNAL, cv2.CHAIN_APPROX_SIMPLE)\n",
    "    contours_green, _ = cv2.findContours(mask_green, cv2.RETR_EXTERNAL, cv2.CHAIN_APPROX_SIMPLE)\n",
    "\n",
    "    contours_red = [cnt for cnt in contours_red if cv2.contourArea(cnt) >= 125]\n",
    "    contours_green = [cnt for cnt in contours_green if cv2.contourArea(cnt) >= 125]\n",
    "\n",
    "    # Create copies of the masks to draw contours on\n",
    "    # mask_red_with_contours = cv2.cvtColor(mask_red, cv2.COLOR_GRAY2BGR)\n",
    "    # mask_green_with_contours = cv2.cvtColor(mask_green, cv2.COLOR_GRAY2BGR)\n",
    "\n",
    "    green_points = []\n",
    "    red_points = []\n",
    "\n",
    "    for contour in contours_red:\n",
    "        # Fit ellipse\n",
    "        ellipse = cv2.fitEllipse(contour)\n",
    "\n",
    "        area = cv2.contourArea(contour)\n",
    "        center = move_ellipse_center(ellipse, area)\n",
    "        red_points.append(center)\n",
    "        # if draw:\n",
    "        #     cv2.drawContours(mask_red_with_contours, [contour], -1, (0, 0, 255), 2)\n",
    "        #     cv2.ellipse(mask_red_with_contours, ellipse, (0, 0, 255), 2)\n",
    "        #     cv2.circle(draw_image, center, 10, (0, 0, 255), -1)\n",
    "        #     cv2.putText(mask_red_with_contours, f'{area:.2f}', tuple(contour[0][0]), cv2.FONT_HERSHEY_SIMPLEX, 0.5, (0, 0, 255), 2)\n",
    "\n",
    "    for contour in contours_green:\n",
    "        # Fit ellipse\n",
    "        ellipse = cv2.fitEllipse(contour)\n",
    "\n",
    "        area = cv2.contourArea(contour)\n",
    "        center = move_ellipse_center(ellipse, area)\n",
    "        green_points.append(center)\n",
    "\n",
    "        # if draw:\n",
    "        #     cv2.drawContours(mask_green_with_contours, [contour], -1, (0, 255, 0), 2)\n",
    "        #     cv2.ellipse(mask_green_with_contours, ellipse, (0, 255, 0), 2)\n",
    "        #     cv2.circle(draw_image, center, 10, (0, 255, 0), -1)\n",
    "        #     cv2.putText(mask_green_with_contours, f'{area:.2f}', tuple(contour[0][0]), cv2.FONT_HERSHEY_SIMPLEX, 0.5, (0, 255, 0), 2)\n",
    "\n",
    "    return {'green':green_points, 'red':red_points}"
   ]
  },
  {
   "cell_type": "code",
   "execution_count": 389,
   "metadata": {},
   "outputs": [],
   "source": [
    "def draw_points(image, points_dict):\n",
    "    draw_img = image.copy()\n",
    "    color_bgr__dict = {'red': (0, 0, 255), 'green': (0, 255, 0)}\n",
    "    for team, pts in zip(points_dict.keys(), points_dict.values()):\n",
    "        color = color_bgr__dict[team]\n",
    "        for point in pts:\n",
    "            cv2.circle(draw_img, point, 7, color, -1)\n",
    "\n",
    "    return draw_img"
   ]
  },
  {
   "cell_type": "code",
   "execution_count": 390,
   "metadata": {},
   "outputs": [],
   "source": [
    "def find_center(image):\n",
    "    w, h = image.shape[0] // 2, image.shape[1] // 2\n",
    "    cv2.circle(image, (w, h), 7, (255, 0, 255), -1)\n",
    "    return (w, h + 10)"
   ]
  },
  {
   "cell_type": "code",
   "execution_count": 399,
   "metadata": {},
   "outputs": [],
   "source": [
    "def count_scores(image, center, points_dict):\n",
    "    draw_img = image.copy()\n",
    "    color_bgr__dict = {'red': (0, 0, 255), 'green': (0, 255, 0)}\n",
    "    def dist_to_score(dist):\n",
    "        ratio_list = [4, 5, 6, 5, 6, 5, 6, 6]\n",
    "        scores = [100, 80, 60, 50, 40, 30, 20, 10]\n",
    "        koef = (image.shape[0] // 2) / sum(ratio_list)\n",
    "        cur_pos = 0\n",
    "        i = 0\n",
    "        while True:\n",
    "            if i >= len(ratio_list) - 1: return 0\n",
    "            \n",
    "            l = cur_pos * koef\n",
    "            u = (cur_pos + ratio_list[i]) * koef\n",
    "            if l < dist < u:\n",
    "                return scores[i]\n",
    "            else:\n",
    "                cur_pos += ratio_list[i]\n",
    "                i += 1\n",
    "            \n",
    "\n",
    "    team_scores_dict = {}\n",
    "    for team, pts in zip(points_dict.keys(), points_dict.values()):\n",
    "        color = color_bgr__dict[team]\n",
    "        team_scores_dict[team] = 0\n",
    "        for point in pts:\n",
    "            dist = np.linalg.norm(np.array(center) - np.array(point))\n",
    "            team_scores_dict[team] += dist_to_score(dist)\n",
    "            cv2.line(draw_img, center, point, color, 3, -1)\n",
    "\n",
    "    return draw_img, team_scores_dict"
   ]
  },
  {
   "cell_type": "code",
   "execution_count": 400,
   "metadata": {},
   "outputs": [
    {
     "name": "stdout",
     "output_type": "stream",
     "text": [
      "163.94552612304688 0.2765511492262124 -0.9609991997195737\n",
      "green\n",
      "red\n"
     ]
    },
    {
     "data": {
      "text/plain": [
       "-1"
      ]
     },
     "execution_count": 400,
     "metadata": {},
     "output_type": "execute_result"
    }
   ],
   "source": [
    "img = cv2.imread(path3)\n",
    "\n",
    "w, h = img.shape[1]//3, img.shape[0]//3\n",
    "\n",
    "img = cv2.resize(img, (w, h))\n",
    "img = cropBoard(img)\n",
    "\n",
    "\n",
    "points_dict = get_red_green_masks_with_contours(img)\n",
    "draw_image = draw_points(img, points_dict)\n",
    "center = find_center(draw_image)\n",
    "draw_image, scores_dict = count_scores(draw_image, center, points_dict)\n",
    "cv2.imshow('Original', img)\n",
    "cv2.imshow('Points', draw_image)\n",
    "\n",
    "cv2.waitKey(0)\n",
    "cv2.destroyAllWindows()\n",
    "cv2.waitKey(1)\n",
    "cv2.waitKey(1)\n",
    "cv2.waitKey(1)\n",
    "cv2.waitKey(1)"
   ]
  },
  {
   "cell_type": "code",
   "execution_count": 398,
   "metadata": {},
   "outputs": [
    {
     "data": {
      "text/plain": [
       "{'green': 140, 'red': 200}"
      ]
     },
     "execution_count": 398,
     "metadata": {},
     "output_type": "execute_result"
    }
   ],
   "source": [
    "scores_dict"
   ]
  },
  {
   "cell_type": "code",
   "execution_count": null,
   "metadata": {},
   "outputs": [],
   "source": [
    "6/6, 5/6, 6/6"
   ]
  },
  {
   "cell_type": "code",
   "execution_count": 333,
   "metadata": {},
   "outputs": [
    {
     "data": {
      "text/plain": [
       "-1"
      ]
     },
     "execution_count": 333,
     "metadata": {},
     "output_type": "execute_result"
    }
   ],
   "source": [
    "img = cv2.imread(path3)\n",
    "\n",
    "w, h = img.shape[1]//3, img.shape[0]//3\n",
    "\n",
    "img = cv2.resize(img, (w, h))\n",
    "\n",
    "cv2.imshow('Original', img)\n",
    "\n",
    "cv2.waitKey(0)\n",
    "cv2.destroyAllWindows()\n",
    "cv2.waitKey(1)\n",
    "cv2.waitKey(1)\n",
    "cv2.waitKey(1)\n",
    "cv2.waitKey(1)\n"
   ]
  },
  {
   "cell_type": "code",
   "execution_count": 337,
   "metadata": {},
   "outputs": [
    {
     "data": {
      "text/plain": [
       "8"
      ]
     },
     "execution_count": 337,
     "metadata": {},
     "output_type": "execute_result"
    }
   ],
   "source": [
    "ratio_list = [3, 5, 6, 5, 6, 5, 6, 6]\n",
    "\n",
    "len(ratio_list)"
   ]
  },
  {
   "cell_type": "code",
   "execution_count": null,
   "metadata": {},
   "outputs": [],
   "source": []
  }
 ],
 "metadata": {
  "kernelspec": {
   "display_name": "dlenv",
   "language": "python",
   "name": "python3"
  },
  "language_info": {
   "codemirror_mode": {
    "name": "ipython",
    "version": 3
   },
   "file_extension": ".py",
   "mimetype": "text/x-python",
   "name": "python",
   "nbconvert_exporter": "python",
   "pygments_lexer": "ipython3",
   "version": "3.9.18"
  }
 },
 "nbformat": 4,
 "nbformat_minor": 2
}
