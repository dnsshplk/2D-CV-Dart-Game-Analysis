{
 "cells": [
  {
   "cell_type": "code",
   "execution_count": 2,
   "metadata": {},
   "outputs": [],
   "source": [
    "import cv2\n",
    "import numpy as np"
   ]
  },
  {
   "cell_type": "code",
   "execution_count": 3,
   "metadata": {},
   "outputs": [],
   "source": [
    "def find_dartboard_center(image):\n",
    "    # Convert the image to grayscale\n",
    "    gray = cv2.cvtColor(image, cv2.COLOR_BGR2GRAY)\n",
    "\n",
    "    # Apply Gaussian blur to reduce noise\n",
    "    blurred = cv2.GaussianBlur(gray, (5, 5), 0)\n",
    "\n",
    "    # Use adaptive thresholding to get a binary image\n",
    "    _, thresh = cv2.threshold(blurred, 200, 255, cv2.THRESH_BINARY_INV + cv2.THRESH_OTSU)\n",
    "\n",
    "    # Find contours in the binary image\n",
    "    contours, _ = cv2.findContours(thresh, cv2.RETR_EXTERNAL, cv2.CHAIN_APPROX_SIMPLE)\n",
    "\n",
    "    # Remove small contours\n",
    "    contours = [contour for contour in contours if cv2.contourArea(contour) > 10000]\n",
    "\n",
    "    # Find the largest contour with a suitable area and perimeter\n",
    "    largest_contour = None\n",
    "    largest_area = 0\n",
    "    for contour in contours:\n",
    "        area = cv2.contourArea(contour)\n",
    "        perimeter = cv2.arcLength(contour, True)\n",
    "        if area > largest_area and area > 1000 and perimeter > 1000:\n",
    "            largest_contour = contour\n",
    "            largest_area = area\n",
    "\n",
    "    # Check if a suitable contour was found\n",
    "    if largest_contour is not None:\n",
    "        # Calculate the center of the contour\n",
    "        M = cv2.moments(largest_contour)\n",
    "        center = (int(M['m10'] / M['m00']), int(M['m01'] / M['m00']))\n",
    "\n",
    "        return center\n",
    "\n",
    "    return None"
   ]
  },
  {
   "cell_type": "code",
   "execution_count": 4,
   "metadata": {},
   "outputs": [],
   "source": [
    "path1 = r'imgs/IMG_20240510_172748.jpg'\n",
    "path2 = r'imgs/IMG_20240510_172837.jpg'\n",
    "path3 = r'imgs/IMG_20240510_172930.jpg'"
   ]
  },
  {
   "cell_type": "code",
   "execution_count": 6,
   "metadata": {},
   "outputs": [
    {
     "data": {
      "text/plain": [
       "(2468, 1660)"
      ]
     },
     "execution_count": 6,
     "metadata": {},
     "output_type": "execute_result"
    }
   ],
   "source": [
    "img = cv2.imread(path3)\n",
    "\n",
    "w, h = img.shape[1]//1, img.shape[0]//1\n",
    "\n",
    "img = cv2.resize(img, (w, h))\n",
    "\n",
    "center = find_dartboard_center(img)\n",
    "\n",
    "img = cv2.circle(img, center, 10, (0, 255, 0))\n",
    "cv2.imshow('ceter', img)\n",
    "cv2.waitKey(0)\n",
    "cv2.destroyAllWindows()\n",
    "cv2.waitKey(1)\n",
    "cv2.waitKey(1)\n",
    "cv2.waitKey(1)\n",
    "cv2.waitKey(1)"
   ]
  },
  {
   "cell_type": "code",
   "execution_count": null,
   "metadata": {},
   "outputs": [],
   "source": []
  }
 ],
 "metadata": {
  "language_info": {
   "name": "python"
  }
 },
 "nbformat": 4,
 "nbformat_minor": 2
}
